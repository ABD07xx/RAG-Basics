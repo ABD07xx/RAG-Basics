{
 "cells": [
  {
   "cell_type": "code",
   "execution_count": 1,
   "id": "31ddc718",
   "metadata": {},
   "outputs": [],
   "source": [
    "from langchain_community.document_loaders import PyPDFLoader\n",
    "from langchain_community.document_loaders import PyPDFDirectoryLoader\n",
    "from langchain.text_splitter import RecursiveCharacterTextSplitter"
   ]
  },
  {
   "cell_type": "markdown",
   "id": "b79b7c46",
   "metadata": {},
   "source": [
    "### Loading and Chunking Data"
   ]
  },
  {
   "cell_type": "markdown",
   "id": "bf386dc2",
   "metadata": {},
   "source": [
    "loader = PyPDFDirectoryLoader(\"./PDF\")\n",
    "documents = loader.load()"
   ]
  },
  {
   "cell_type": "markdown",
   "id": "49bad395",
   "metadata": {},
   "source": [
    "documents[-1].metadata['source'][4:-4]"
   ]
  },
  {
   "cell_type": "markdown",
   "id": "37cc409a",
   "metadata": {},
   "source": [
    "documents[0].metadata['source'][4:-4]"
   ]
  },
  {
   "cell_type": "markdown",
   "id": "b61e0557",
   "metadata": {},
   "source": [
    "len(documents)"
   ]
  },
  {
   "cell_type": "markdown",
   "id": "943df14e",
   "metadata": {},
   "source": [
    "text_splitter = RecursiveCharacterTextSplitter(chunk_size=1000,chunk_overlap=200)\n",
    "\n",
    "final_document = text_splitter.split_documents(documents)\n",
    "final_document[0]"
   ]
  },
  {
   "cell_type": "markdown",
   "id": "48a13e92",
   "metadata": {},
   "source": [
    "len(final_document)"
   ]
  },
  {
   "cell_type": "markdown",
   "id": "82c8747e",
   "metadata": {},
   "source": [
    "#### Embeddings"
   ]
  },
  {
   "cell_type": "code",
   "execution_count": 2,
   "id": "cffe053a",
   "metadata": {},
   "outputs": [],
   "source": [
    "from sentence_transformers import SentenceTransformer\n",
    "from langchain_community.embeddings import HuggingFaceBgeEmbeddings"
   ]
  },
  {
   "cell_type": "code",
   "execution_count": 3,
   "id": "c328b671",
   "metadata": {},
   "outputs": [],
   "source": [
    "huggingface_embeddings=HuggingFaceBgeEmbeddings(\n",
    "    model_name=\"sentence-transformers/all-MiniLM-l6-v2\",\n",
    "    model_kwargs={'device':'cpu'},\n",
    "    encode_kwargs={'normalize_embeddings':True}\n",
    ")"
   ]
  },
  {
   "cell_type": "code",
   "execution_count": 49,
   "id": "bb32aba3",
   "metadata": {},
   "outputs": [],
   "source": [
    "def create_embeddings(text):\n",
    "    return huggingface_embeddings.embed_query(text)"
   ]
  },
  {
   "cell_type": "code",
   "execution_count": 5,
   "id": "5f062a51",
   "metadata": {},
   "outputs": [],
   "source": [
    "import numpy as np"
   ]
  },
  {
   "cell_type": "markdown",
   "id": "0785e750",
   "metadata": {
    "scrolled": true
   },
   "source": [
    "print(np.array(create_embeddings(final_document[1].page_content)).shape)"
   ]
  },
  {
   "cell_type": "code",
   "execution_count": 6,
   "id": "9909bac3",
   "metadata": {},
   "outputs": [],
   "source": [
    "from pymilvus import MilvusClient\n",
    "import os"
   ]
  },
  {
   "cell_type": "code",
   "execution_count": 8,
   "id": "4f13f97b",
   "metadata": {
    "scrolled": false
   },
   "outputs": [],
   "source": [
    "milvus_client = MilvusClient(\n",
    "    uri=os.getenv(\"MILVUS_ENDPOINT\"),\n",
    "    token=os.getenv(\"MILVUS_API_KEY\")\n",
    ")"
   ]
  },
  {
   "cell_type": "markdown",
   "id": "48c7add5",
   "metadata": {},
   "source": [
    "len(final_document)"
   ]
  },
  {
   "cell_type": "code",
   "execution_count": 9,
   "id": "34bca60c",
   "metadata": {},
   "outputs": [],
   "source": [
    "class initiate_milvus:\n",
    "    \n",
    "    def __init__(self,milvus_client,milvus_collection_name):\n",
    "        self.milvus_client = milvus_client\n",
    "        self.milvus_collection_name = milvus_collection_name\n",
    "\n",
    "    def add_data_to_vectordb(self,content):\n",
    "        for i in range(0,10):\n",
    "            embedding  = create_embeddings(final_document[i].page_content)\n",
    "            self.insert_embedding(embedding,final_document[i].page_content)\n",
    "\n",
    "    def insert_embedding(self,embedding,text):\n",
    "        row = {\n",
    "                'vector': embedding,\n",
    "                'text':text,\n",
    "        }\n",
    "\n",
    "        self.milvus_client.insert(self.milvus_collection_name,data=[row])\n",
    " "
   ]
  },
  {
   "cell_type": "code",
   "execution_count": 10,
   "id": "7ee784f4",
   "metadata": {},
   "outputs": [],
   "source": [
    "milvus_collection_name = 'NetworkingProjectData'\n",
    "indexer = initiate_milvus(milvus_client, milvus_collection_name)"
   ]
  },
  {
   "cell_type": "markdown",
   "id": "e4235fb5",
   "metadata": {},
   "source": [
    "\n",
    "#### Data uploaded \n",
    "indexer.add_data_to_vectordb(final_document)"
   ]
  },
  {
   "cell_type": "code",
   "execution_count": 11,
   "id": "9149c795",
   "metadata": {},
   "outputs": [],
   "source": [
    "class SearchEngine:\n",
    "    def __init__(self, milvus_client, milvus_collection_name):\n",
    "        self.milvus_client = milvus_client\n",
    "        self.milvus_collection_name = milvus_collection_name\n",
    "  \n",
    "    def query_milvus(self, embedding):\n",
    "        result_count = 3\n",
    "  \n",
    "        result = self.milvus_client.search(\n",
    "            collection_name=self.milvus_collection_name,\n",
    "            data=[embedding],\n",
    "            limit=result_count,\n",
    "            output_fields=[\"text\"])\n",
    "  \n",
    "        list_of_knowledge_base = list(map(lambda match: match['entity']['text'], result[0]))\n",
    "  \n",
    "        return {\n",
    "            'list_of_knowledge_base': list_of_knowledge_base,\n",
    "        }\n"
   ]
  },
  {
   "cell_type": "code",
   "execution_count": 12,
   "id": "a5fbd7ab",
   "metadata": {},
   "outputs": [],
   "source": [
    "x = SearchEngine(milvus_client,milvus_collection_name)"
   ]
  },
  {
   "cell_type": "markdown",
   "id": "4b14f7c2",
   "metadata": {},
   "source": [
    "#### Prompt LLM Training"
   ]
  },
  {
   "cell_type": "code",
   "execution_count": 13,
   "id": "54b65f09",
   "metadata": {},
   "outputs": [
    {
     "data": {
      "text/plain": [
       "(384,)"
      ]
     },
     "execution_count": 13,
     "metadata": {},
     "output_type": "execute_result"
    }
   ],
   "source": [
    "query = \"Do I have an interference issue where my access point is on channel 116 with channel width of 80MHz and channel utilization of 18% and a signal strength of -58.0 dBm and there is a nearby access point on on channel 116 with a channel width of 20MHz and an unknown channel utilization and a signal strength of -63.0 dBm.\"\n",
    "query_embed = np.array(create_embeddings(query))\n",
    "(query_embed).shape"
   ]
  },
  {
   "cell_type": "code",
   "execution_count": 14,
   "id": "370e90bf",
   "metadata": {
    "scrolled": true
   },
   "outputs": [],
   "source": [
    "Query_Search = x.query_milvus(query_embed)"
   ]
  },
  {
   "cell_type": "code",
   "execution_count": 15,
   "id": "954e7391",
   "metadata": {
    "scrolled": true
   },
   "outputs": [
    {
     "data": {
      "text/plain": [
       "{'list_of_knowledge_base': ['Review Questions  427\\n16. What are some problems that can occur when an access point is transmitting at full power? \\n(Choose all that apply.)\\nA. Hidden node\\nB. Co-channel interference\\nC. Mismatched power between the AP and the clients\\nD. Intersymbol interference\\n17. Why would a WLAN network administrator consider disabling the two lowest rates on an \\n802.11b/g access point? (Choose all that apply.)\\nA. Medium contention\\nB. Adjacent channel interference\\nC. Hidden node\\nD. Intersymbol interference\\nE. All of the above\\n18. Which type of interference is caused by destructive multipath?\\nA. Intersymbol interference\\nB. All-band interference\\nC. Narrowband interference\\nD. Wideband interference\\nE. Physical interference\\n19. In a multiple-channel architecture (MCA) design, what is the greatest number of nonover-\\nlapping channels that can be deployed in the 2.4 GHz ISM band?\\nA. 3\\nB. 12\\nC. 11\\nD. 14\\nE. 4\\n20. What factors should be taken into consideration when designing a channel reuse plan for 5',\n",
       "  '408 Chapter 12 \\x84 WLAN Troubleshooting\\nFIGURE 12.24  Co-channel interference\\n2.4 GHz\\nAll nearby APs and \\nclients on channel 1 defer transmissions.The AP on channel 1 transmits.\\nChannel 1\\nChannel 1\\nChannel 1Channel 1\\nFIGURE 12.25  Adjacent channel interference\\nChannel 1 Channel 4 Channel 7\\nChannel 7 Channel 11\\nc12.indd   408 c12.indd   408 4/10/2012   4:21:31 PM 4/10/2012   4:21:31 PM',\n",
       "  '5 GHz Channels  211\\nmeaning the AP on channel 6 receives only the signals above the level 1 line, the signals \\nfrom channel 1 and channel 11 do not intersect (interfere) with the signals on channel 6. However, at the level 2 line the signals from channel 1 and channel 11 do intersect (inter-fere) slightly with the signals on channel 6. At the level 3 line, there is signiﬁ  cant interfer-\\nence from the signals from channel 1 and channel 11. Because of the potential for this situation, it is important to separate access points (usually 5 to 10 feet is sufﬁ  cient) so that \\ninterference from sideband frequencies does not occur. This separation is important both horizontally and vertically.\\nFIGURE 6.10  Sideband carrier frequency interference\\nChannel 1 Cha nnel 6 Cha nnel 11Signal level\\n1\\n2\\n3\\n5 GHz Channels\\nThe 802.11-2007 standard speciﬁ  es the 5 GHz UNII bands: UNII-1, UNII-2, UNII-2']}"
      ]
     },
     "execution_count": 15,
     "metadata": {},
     "output_type": "execute_result"
    }
   ],
   "source": [
    "Query_Search"
   ]
  },
  {
   "cell_type": "code",
   "execution_count": 16,
   "id": "23a4f801",
   "metadata": {},
   "outputs": [],
   "source": [
    "from langchain_community.llms import Ollama\n",
    "from langchain_community.chat_models import ChatOllama"
   ]
  },
  {
   "cell_type": "code",
   "execution_count": 17,
   "id": "d18b13e7",
   "metadata": {},
   "outputs": [],
   "source": [
    "ollama_model = ChatOllama(model='mistral:latest', temperature=0)"
   ]
  },
  {
   "cell_type": "markdown",
   "id": "a82dcab2",
   "metadata": {},
   "source": [
    "prompt = (\n",
    "    f\"Try to give a precise and to the point response of the user query and do answer all the questions there can be many questions: {query}. \",\n",
    "    f\"Never produce answer based on your knowledge but use the knowledge base that is provided to you: {Query_Search}. \",\n",
    "    f\"Don't repeat or keep words that are not human readable in the response\"\n",
    ")"
   ]
  },
  {
   "cell_type": "code",
   "execution_count": 18,
   "id": "36b8ff14",
   "metadata": {},
   "outputs": [],
   "source": [
    "json_data_example ={\n",
    "          \"type\": \"CO_CHANNEL_INTERFERENCE\",\n",
    "          \"bssid\": \"a8:bd:27:87:e6:10\",\n",
    "          \"ssid\": \"#momogoboom5\",\n",
    "          \"band\": 5.0,\n",
    "          \"criticality\": \"GOOD\",\n",
    "          \"target\": None,\n",
    "          \"timestamp\": 1704284031210,\n",
    "          \"message\": None,\n",
    "          \"averageChannelUtilization\": None,\n",
    "          \"interferingBssids\": None,\n",
    "          \"channelDetails\":\n",
    "          {\n",
    "            \"channel\": 116,\n",
    "            \"frequency\": 5580,\n",
    "            \"htMode\": \"ABOVE\",\n",
    "            \"vhtMode\": \"WIDTH_80_MHZ\",\n",
    "            \"heMode\": \"UNKNOWN\",\n",
    "            \"band\": 5.0\n",
    "          },\n",
    "          \"thresholds\":\n",
    "          {\n",
    "            \"enabled\": True,\n",
    "            \"signalStrength\": -85,\n",
    "            \"bssidsHavingBssLoad\": 2,\n",
    "            \"averageChannelUtilization\": 40,\n",
    "            \"criticalOverlappingBssidsOn2400MHz\": 4,\n",
    "            \"criticalOverlappingBssidsOn5000MHz\": 2,\n",
    "            \"criticalOverlappingBssidsOn6000MHz\": 2,\n",
    "            \"warningOverlappingBssidsOn2400MHz\": 3,\n",
    "            \"warningOverlappingBssidsOn5000MHz\": 1,\n",
    "            \"warningOverlappingBssidsOn6000MHz\": 1,\n",
    "            \"downlinkThroughputThresholds\": None\n",
    "          }\n",
    "        }"
   ]
  },
  {
   "cell_type": "code",
   "execution_count": 19,
   "id": "91757894",
   "metadata": {},
   "outputs": [],
   "source": [
    "import json\n",
    "\n",
    "json_data_example = json_data_example\n",
    "\n",
    "prompt = (\n",
    "    \"\"\"\n",
    "    I'll provide you with some JSON data and User Query.\n",
    "    Act as if you are working as a tech lead in a networking firm. And based on these records and the JSON logs\n",
    "    you've to respond to the query and solve it. I have provided you with 1 sample Answer how it should look like: \n",
    "    \"\"\"\n",
    "    f\"\"\"\n",
    "    Given the JSON data representing an hour's worth of Wi-Fi test data and the user query:\n",
    "    The JSON Logs are {json_data_example} and the query is {query}. \n",
    "    The ideal answer should go in a phased manner. Where you would work with every part of the question and take its insights from the knowledge base which is located here {Query_Search}. \n",
    "    \n",
    "\n",
    "    The answer should somewhat look like this, The flow of solving a question, Please remember this is just an example and you shouldn't repeat all queries with the same answer this is just a sample answer. Use the knowledge base to solve the query that is given to you: \n",
    "    > From the provided information, it appears that there might be an interference issue between your access point and the nearby access point on the same channel (channel 116).\n",
    "    >\n",
    "    > The wide channel width (80MHz) of your access point might be causing interference, especially with the nearby access point operating on a narrower channel width (20MHz). Although the signal strength of your access point is stronger (-58.0 dBm) compared to the nearby one (-63.0 dBm), the difference might not be sufficient to eliminate interference, especially if both devices are close enough to each other.\n",
    "    > \n",
    "    > The channel utilization of 18% on your access point indicates that there is some activity on that channel, although it's not excessively high. However, without knowing the channel utilization of the nearby access point, it's challenging to determine the extent of interference caused.\n",
    "    > \n",
    "    > To address this:\n",
    "    > \n",
    "    > Change Channel or Channel Width: Consider changing the channel of your access point to a less congested one or reducing the channel width to minimize interference with the nearby access point. You can use Wi-Fi analyzer tools to identify less crowded channels.\n",
    "    > \n",
    "    > Evaluate Nearby Access Point's Utilization: If possible, try to gather information about the channel utilization of the nearby access point. If it's significantly high, it could contribute to interference. Adjust your channel or settings accordingly.\n",
    "    > \n",
    "    > Optimize Signal Strength: While your access point has a stronger signal, adjusting the positioning or antenna orientation might further optimize its signal strength and quality within your desired coverage area.\n",
    "    > \n",
    "    > Monitor and Test: Regularly monitor the network performance after making changes to assess whether the interference has reduced and the overall performance has improved.\n",
    "    > \n",
    "    > Remember, mitigating interference often involves a combination of adjusting settings, channel selection, and monitoring network performance over time to find the most effective configuration for your specific environment.\n",
    " \n",
    "   \"\"\"\n",
    "    )\n",
    "    \n",
    "\n"
   ]
  },
  {
   "cell_type": "code",
   "execution_count": 20,
   "id": "bfec1f40",
   "metadata": {},
   "outputs": [],
   "source": [
    "response = ollama_model.invoke(prompt)\n"
   ]
  },
  {
   "cell_type": "code",
   "execution_count": 21,
   "id": "385bbf56",
   "metadata": {},
   "outputs": [
    {
     "data": {
      "text/plain": [
       "\" Based on the given JSON data and user query, here's an example answer:\\n\\n> From the provided information, it seems that there might be a co-channel interference issue between your access point and the nearby one with the same channel (channel 116).\\n>\\n> The wide channel width (80MHz) of your access point could potentially cause interference, especially when in close proximity to a device using a narrower channel width (20MHz). Although your access point has a stronger signal (-58.0 dBm), the difference might not be enough to eliminate interference entirely.\\n>\\n> The channel utilization of 18% on your access point indicates some activity, but without knowing the channel utilization of the nearby access point, it's difficult to determine the extent of interference caused.\\n>\\n> To address this issue:\\n>\\n> Change Channel or Channel Width: Consider changing the channel of your access point to a less congested one or reducing the channel width to minimize interference with the nearby access point. Use Wi-Fi analyzer tools to identify less crowded channels.\\n>\\n> Evaluate Nearby Access Point's Utilization: If possible, try to gather information about the channel utilization of the nearby access point. High channel utilization could contribute to interference. Adjust your channel or settings accordingly.\\n>\\n> Optimize Signal Strength: While your access point has a stronger signal, adjusting its positioning or antenna orientation might further optimize its signal strength and quality within your desired coverage area.\\n>\\n> Monitor and Test: Regularly monitor the network performance after making changes to assess whether the interference has reduced and overall performance has improved.\\n>\\n> Remember, mitigating interference often involves a combination of adjusting settings, channel selection, and monitoring network performance over time to find the most effective configuration for your specific environment.\\n\\nRefer to the knowledge base provided for further information on co-channel interference, channel widths, and optimizing signal strength.\""
      ]
     },
     "execution_count": 21,
     "metadata": {},
     "output_type": "execute_result"
    }
   ],
   "source": [
    "response.content"
   ]
  },
  {
   "cell_type": "code",
   "execution_count": null,
   "id": "737a535a",
   "metadata": {},
   "outputs": [],
   "source": []
  },
  {
   "cell_type": "code",
   "execution_count": null,
   "id": "b607dd37",
   "metadata": {},
   "outputs": [],
   "source": []
  },
  {
   "cell_type": "code",
   "execution_count": null,
   "id": "54029526",
   "metadata": {},
   "outputs": [],
   "source": []
  },
  {
   "cell_type": "markdown",
   "id": "92665161",
   "metadata": {},
   "source": [
    "### New Prompt Try: New Approach"
   ]
  },
  {
   "cell_type": "code",
   "execution_count": 22,
   "id": "25684c5a",
   "metadata": {},
   "outputs": [],
   "source": [
    "def convert_json_values_to_python(json_str):\n",
    "    data = json.loads(json_str)\n",
    "    return data"
   ]
  },
  {
   "cell_type": "code",
   "execution_count": 64,
   "id": "bac70962",
   "metadata": {},
   "outputs": [],
   "source": [
    "json_new =\"\"\"\n",
    "        {\n",
    "          \"type\": \"COVERAGE\",\n",
    "          \"bssid\": \"a8:bd:27:87:e6:10\",\n",
    "          \"ssid\": \"#momogoboom5\",\n",
    "          \"band\": 5.0,\n",
    "          \"criticality\": \"GOOD\",\n",
    "          \"target\": null,\n",
    "          \"timestamp\": 1704284031210,\n",
    "          \"signalStrength\": -58.0,\n",
    "          \"stickyFactor\": 0,\n",
    "          \"bestAlternativeSignalStrength\": null,\n",
    "          \"thresholds\":\n",
    "          {\n",
    "            \"enabled\": true,\n",
    "            \"signalStrengthThresholds\":\n",
    "            {\n",
    "              \"enabled\": true,\n",
    "              \"thresholds\":\n",
    "              {\n",
    "                \"critical\": -73.0,\n",
    "                \"warning\": -70.0\n",
    "              },\n",
    "              \"targetHost\": null,\n",
    "              \"band\": null\n",
    "            },\n",
    "            \"roamingThresholds\":\n",
    "            {\n",
    "              \"enabled\": true,\n",
    "              \"thresholds\":\n",
    "              {\n",
    "                \"critical\": 2.0,\n",
    "                \"warning\": 1.0\n",
    "              },\n",
    "              \"targetHost\": null,\n",
    "              \"band\": null,\n",
    "              \"signalStrengthRangeMin\": -90,\n",
    "              \"signalStrengthRangeMax\": -20,\n",
    "              \"roamingConfigDelta\": 7,\n",
    "              \"roamingConfigThreshold\": -70\n",
    "            },\n",
    "            \"bestAlternativeSignalStrengthThresholds\":\n",
    "            {\n",
    "              \"enabled\": true,\n",
    "              \"thresholds\":\n",
    "              {\n",
    "                \"critical\": 0.0,\n",
    "                \"warning\": 0.0\n",
    "              },\n",
    "              \"targetHost\": null,\n",
    "              \"band\": null\n",
    "            }\n",
    "          }\n",
    "        }\"\"\""
   ]
  },
  {
   "cell_type": "code",
   "execution_count": 65,
   "id": "d624ba1c",
   "metadata": {},
   "outputs": [
    {
     "data": {
      "text/plain": [
       "{'type': 'COVERAGE',\n",
       " 'bssid': 'a8:bd:27:87:e6:10',\n",
       " 'ssid': '#momogoboom5',\n",
       " 'band': 5.0,\n",
       " 'criticality': 'GOOD',\n",
       " 'target': None,\n",
       " 'timestamp': 1704284031210,\n",
       " 'signalStrength': -58.0,\n",
       " 'stickyFactor': 0,\n",
       " 'bestAlternativeSignalStrength': None,\n",
       " 'thresholds': {'enabled': True,\n",
       "  'signalStrengthThresholds': {'enabled': True,\n",
       "   'thresholds': {'critical': -73.0, 'warning': -70.0},\n",
       "   'targetHost': None,\n",
       "   'band': None},\n",
       "  'roamingThresholds': {'enabled': True,\n",
       "   'thresholds': {'critical': 2.0, 'warning': 1.0},\n",
       "   'targetHost': None,\n",
       "   'band': None,\n",
       "   'signalStrengthRangeMin': -90,\n",
       "   'signalStrengthRangeMax': -20,\n",
       "   'roamingConfigDelta': 7,\n",
       "   'roamingConfigThreshold': -70},\n",
       "  'bestAlternativeSignalStrengthThresholds': {'enabled': True,\n",
       "   'thresholds': {'critical': 0.0, 'warning': 0.0},\n",
       "   'targetHost': None,\n",
       "   'band': None}}}"
      ]
     },
     "execution_count": 65,
     "metadata": {},
     "output_type": "execute_result"
    }
   ],
   "source": [
    "new_json_parsed = convert_json_values_to_python(json_new)\n",
    "new_json_parsed"
   ]
  },
  {
   "cell_type": "code",
   "execution_count": null,
   "id": "7cf68925",
   "metadata": {},
   "outputs": [],
   "source": []
  },
  {
   "cell_type": "code",
   "execution_count": 66,
   "id": "7878805f",
   "metadata": {},
   "outputs": [],
   "source": [
    "prompt = (\n",
    "    f\"\"\"\n",
    "    You are one of the most wisest extractor in the world, your job is to find\n",
    "    important features from the json logs of a file to find which features should be used to\n",
    "    extracted to formulate the knowledge base. What I mean is Using the logs find the number of \n",
    "    features that are very important to find the answer to any query that can arise from the logs.\n",
    "    the logs are: {new_json_parsed}. Only give name of topics that should be referred to no extra word should be used\n",
    "    \n",
    "    \"\"\"\n",
    ")"
   ]
  },
  {
   "cell_type": "code",
   "execution_count": 67,
   "id": "84f5e422",
   "metadata": {},
   "outputs": [],
   "source": [
    "infer = ollama_model.invoke(prompt)"
   ]
  },
  {
   "cell_type": "code",
   "execution_count": 68,
   "id": "8ac296ef",
   "metadata": {},
   "outputs": [
    {
     "name": "stdout",
     "output_type": "stream",
     "text": [
      " Based on the provided JSON log, the following features are important for querying and extracting knowledge:\n",
      "\n",
      "1. bssid\n",
      "2. ssid\n",
      "3. band\n",
      "4. criticality\n",
      "5. signalStrength\n",
      "6. thresholds (signalStrengthThresholds, roamingThresholds, bestAlternativeSignalStrengthThresholds)\n",
      "7. timestamp.\n"
     ]
    }
   ],
   "source": [
    "print(infer.content)"
   ]
  },
  {
   "cell_type": "code",
   "execution_count": 69,
   "id": "b7b8545f",
   "metadata": {},
   "outputs": [
    {
     "data": {
      "text/plain": [
       "(384,)"
      ]
     },
     "execution_count": 69,
     "metadata": {},
     "output_type": "execute_result"
    }
   ],
   "source": [
    "query_2 = infer.content\n",
    "query_embed = np.array(create_embeddings(query_2))\n",
    "(query_embed).shape"
   ]
  },
  {
   "cell_type": "code",
   "execution_count": 72,
   "id": "a2f2fda2",
   "metadata": {},
   "outputs": [],
   "source": [
    "knowledge_base = x.query_milvus(query_embed)"
   ]
  },
  {
   "cell_type": "code",
   "execution_count": 73,
   "id": "f391731a",
   "metadata": {},
   "outputs": [],
   "source": [
    "new_query = (\"Find if anything is wrong with my network, I'll provide the logs.\")"
   ]
  },
  {
   "cell_type": "code",
   "execution_count": 74,
   "id": "809cfae2",
   "metadata": {},
   "outputs": [],
   "source": [
    "prompt2 = (\n",
    "    f\"\"\"\n",
    "    I'll provide you with some JSON data and User Query.     Structure the answer in a very professional manner. It should seem that you are a Certified Network Professional who was all the knowledge about Networking. You should be professional\n",
    "    Even if you dont know the answer simply say I dont Know about it never halucinate\n",
    "    Act as if you are working as a tech lead in a networking firm. And based on these records and the JSON logs\n",
    "    you've to respond to the query and solve it. I have provided you with 1 sample Answer how it should look like: \n",
    "    \"\"\"\n",
    "    f\"\"\"\n",
    "    Given the JSON data representing an hour's worth of Wi-Fi test data and the user query:\n",
    "    The JSON Logs are {new_json_parsed} and the query is {new_query}. \n",
    "    The ideal answer should go in a phased manner. Where you would work with every part of the question and take its insights from the knowledge base which is located here {knowledge_base}. \n",
    "\n",
    "    \n",
    "    \"\"\"\n",
    "\n",
    ")"
   ]
  },
  {
   "cell_type": "code",
   "execution_count": 75,
   "id": "6aed1192",
   "metadata": {},
   "outputs": [],
   "source": [
    "response = ollama_model.invoke(prompt2)"
   ]
  },
  {
   "cell_type": "code",
   "execution_count": 76,
   "id": "e8b2164a",
   "metadata": {},
   "outputs": [
    {
     "name": "stdout",
     "output_type": "stream",
     "text": [
      " Based on the provided JSON data and user query, I'll walk you through a comprehensive analysis to identify any potential issues with your network.\n",
      "\n",
      "Firstly, let me provide some context about the JSON logs. The data represents an hour's worth of Wi-Fi test data, which includes various parameters such as BSSID, SSID, band, signal strength, sticky factor, best alternative signal strength, thresholds, and criticality.\n",
      "\n",
      "Now, let's focus on your query: \"Find if anything is wrong with my network, I'll provide the logs.\"\n",
      "\n",
      "To address your query, we will analyze the criticality level of each log entry. The 'criticality' field in the JSON data indicates the health status of the Wi-Fi connection for a given access point (AP). Based on the knowledge base provided, we can identify three levels of criticality: 'GOOD', 'WARNING', and 'CRITICAL'.\n",
      "\n",
      "1. Reviewing the logs:\n",
      "The first step is to examine the JSON data and look for any entries with a criticality level other than 'GOOD'. In this case, all the log entries have a 'criticality' level of 'GOOD'. This indicates that there are no major issues with your network based on the provided data.\n",
      "\n",
      "2. Signal strength:\n",
      "Another important factor to consider is signal strength. The 'signalStrength' field in the JSON data represents the RSSI (Received Signal Strength Indicator) value, which measures the power level being received by a device from an access point. A strong signal typically has a lower RSSI value, while a weak signal has a higher RSSI value. In this case, the signal strength is -58.0, which falls within the 'GOOD' range according to the threshold settings in the JSON data.\n",
      "\n",
      "3. Thresholds:\n",
      "The thresholds defined in the JSON data provide a reference for determining the health status of your network. The 'signalStrengthThresholds' and 'roamingThresholds' fields define the critical and warning levels for signal strength and roaming, respectively. In this case, both sets of thresholds are enabled, and the signal strength threshold is set to -73.0 for critical and -70.0 for warning. Since the actual signal strength (-58.0) falls below the warning level, it's essential to monitor this parameter closely to ensure optimal network performance.\n",
      "\n",
      "Based on the analysis of the provided JSON data and user query, there are no major issues with your network according to the given logs. However, it's crucial to continue monitoring the signal strength and other relevant parameters to maintain optimal network performance.\n"
     ]
    }
   ],
   "source": [
    "print(response.content)"
   ]
  },
  {
   "cell_type": "code",
   "execution_count": null,
   "id": "bbac70a9",
   "metadata": {},
   "outputs": [],
   "source": []
  },
  {
   "cell_type": "code",
   "execution_count": null,
   "id": "1bd21434",
   "metadata": {},
   "outputs": [],
   "source": []
  }
 ],
 "metadata": {
  "kernelspec": {
   "display_name": "Python 3 (ipykernel)",
   "language": "python",
   "name": "python3"
  },
  "language_info": {
   "codemirror_mode": {
    "name": "ipython",
    "version": 3
   },
   "file_extension": ".py",
   "mimetype": "text/x-python",
   "name": "python",
   "nbconvert_exporter": "python",
   "pygments_lexer": "ipython3",
   "version": "3.11.5"
  }
 },
 "nbformat": 4,
 "nbformat_minor": 5
}
