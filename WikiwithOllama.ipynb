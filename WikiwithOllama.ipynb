{
 "cells": [
  {
   "cell_type": "code",
   "execution_count": 1,
   "id": "48f73504",
   "metadata": {},
   "outputs": [],
   "source": [
    "from langchain_community.llms import Ollama\n",
    "from langchain_community.chat_models import ChatOllama"
   ]
  },
  {
   "cell_type": "code",
   "execution_count": 2,
   "id": "58eca5a8",
   "metadata": {},
   "outputs": [],
   "source": [
    "import requests\n",
    "\n",
    "def fetch_wikipedia_summary(query):\n",
    "    url = \"https://en.wikipedia.org/api/rest_v1/page/summary/\" + query\n",
    "    response = requests.get(url)\n",
    "    if response.status_code == 200:\n",
    "        data = response.json()\n",
    "        return data.get(\"extract\", \"No summary available.\")\n",
    "    else:\n",
    "        return \"Failed to fetch data from Wikipedia.\""
   ]
  },
  {
   "cell_type": "code",
   "execution_count": 7,
   "id": "f0d71d0b",
   "metadata": {
    "scrolled": true
   },
   "outputs": [
    {
     "name": "stdout",
     "output_type": "stream",
     "text": [
      "Query: Kashmir\n"
     ]
    }
   ],
   "source": [
    "ollama_model = ChatOllama(model='mistral:latest', temperature=0)\n",
    "user_query = input(\"Query: \")\n",
    "\n",
    "ollama_response = ollama_model.invoke(user_query)"
   ]
  },
  {
   "cell_type": "code",
   "execution_count": 8,
   "id": "3a98829e",
   "metadata": {},
   "outputs": [],
   "source": [
    "wikipedia_summary = fetch_wikipedia_summary(user_query)"
   ]
  },
  {
   "cell_type": "code",
   "execution_count": 9,
   "id": "ceab257a",
   "metadata": {},
   "outputs": [],
   "source": [
    "prompt = (\n",
    "    f\"Try to give a precise and to the point response of the user query: {user_query}. \"\n",
    "    f\"If you don't know the answer, only then use the Wikipedia summary: {wikipedia_summary}. \"\n",
    "    \"But do tell the user that you used Wikipedia.\"\n",
    ")\n",
    "response = ollama_model.invoke(prompt)"
   ]
  },
  {
   "cell_type": "code",
   "execution_count": 10,
   "id": "5df53de1",
   "metadata": {},
   "outputs": [
    {
     "data": {
      "text/plain": [
       "' Kashmir is a geographical region in the northern part of the Indian subcontinent. Originally referring to the Kashmir Valley located between the Great Himalayas and the Pir Panjal Range, the term now includes larger areas such as Jammu and Kashmir, Ladakh in India; Azad Kashmir and Gilgit-Baltistan in Pakistan; and Aksai Chin and the Trans-Karakoram Tract in China. (Source: Wikipedia)'"
      ]
     },
     "execution_count": 10,
     "metadata": {},
     "output_type": "execute_result"
    }
   ],
   "source": [
    "response.content"
   ]
  },
  {
   "cell_type": "code",
   "execution_count": null,
   "id": "3b72874b",
   "metadata": {},
   "outputs": [],
   "source": []
  }
 ],
 "metadata": {
  "kernelspec": {
   "display_name": "Python 3 (ipykernel)",
   "language": "python",
   "name": "python3"
  },
  "language_info": {
   "codemirror_mode": {
    "name": "ipython",
    "version": 3
   },
   "file_extension": ".py",
   "mimetype": "text/x-python",
   "name": "python",
   "nbconvert_exporter": "python",
   "pygments_lexer": "ipython3",
   "version": "3.11.5"
  }
 },
 "nbformat": 4,
 "nbformat_minor": 5
}
