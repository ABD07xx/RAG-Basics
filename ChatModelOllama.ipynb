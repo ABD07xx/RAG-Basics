{
 "cells": [
  {
   "cell_type": "code",
   "execution_count": 1,
   "id": "0ffdd007",
   "metadata": {},
   "outputs": [],
   "source": [
    "from langchain_community.llms import Ollama\n",
    "from langchain_community.chat_models import ChatOllama"
   ]
  },
  {
   "cell_type": "code",
   "execution_count": 2,
   "id": "2d1d41ca",
   "metadata": {},
   "outputs": [],
   "source": [
    "llm = Ollama(model='mistral')\n",
    "chat_model = ChatOllama()"
   ]
  },
  {
   "cell_type": "code",
   "execution_count": null,
   "id": "c3d350ae",
   "metadata": {},
   "outputs": [],
   "source": []
  }
 ],
 "metadata": {
  "kernelspec": {
   "display_name": "Python 3 (ipykernel)",
   "language": "python",
   "name": "python3"
  },
  "language_info": {
   "codemirror_mode": {
    "name": "ipython",
    "version": 3
   },
   "file_extension": ".py",
   "mimetype": "text/x-python",
   "name": "python",
   "nbconvert_exporter": "python",
   "pygments_lexer": "ipython3",
   "version": "3.11.5"
  }
 },
 "nbformat": 4,
 "nbformat_minor": 5
}
